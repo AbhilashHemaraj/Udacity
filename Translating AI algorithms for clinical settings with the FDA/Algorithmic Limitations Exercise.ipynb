{
 "cells": [
  {
   "cell_type": "code",
   "execution_count": 1,
   "metadata": {},
   "outputs": [],
   "source": [
    "import pandas as pd\n",
    "import numpy as np\n",
    "import sklearn.metrics as sm"
   ]
  },
  {
   "cell_type": "markdown",
   "metadata": {},
   "source": [
    "Read in labels and performance data:"
   ]
  },
  {
   "cell_type": "code",
   "execution_count": 2,
   "metadata": {},
   "outputs": [
    {
     "data": {
      "text/html": [
       "<div>\n",
       "<style scoped>\n",
       "    .dataframe tbody tr th:only-of-type {\n",
       "        vertical-align: middle;\n",
       "    }\n",
       "\n",
       "    .dataframe tbody tr th {\n",
       "        vertical-align: top;\n",
       "    }\n",
       "\n",
       "    .dataframe thead th {\n",
       "        text-align: right;\n",
       "    }\n",
       "</style>\n",
       "<table border=\"1\" class=\"dataframe\">\n",
       "  <thead>\n",
       "    <tr style=\"text-align: right;\">\n",
       "      <th></th>\n",
       "      <th>Pneumonia</th>\n",
       "      <th>Atelectasis</th>\n",
       "      <th>Effusion</th>\n",
       "      <th>Pneumothorax</th>\n",
       "      <th>Infiltration</th>\n",
       "      <th>Cardiomegaly</th>\n",
       "      <th>Mass</th>\n",
       "      <th>Nodule</th>\n",
       "      <th>algorithm_output</th>\n",
       "    </tr>\n",
       "  </thead>\n",
       "  <tbody>\n",
       "    <tr>\n",
       "      <th>0</th>\n",
       "      <td>1</td>\n",
       "      <td>1</td>\n",
       "      <td>1</td>\n",
       "      <td>0</td>\n",
       "      <td>0</td>\n",
       "      <td>0</td>\n",
       "      <td>0</td>\n",
       "      <td>0</td>\n",
       "      <td>1</td>\n",
       "    </tr>\n",
       "    <tr>\n",
       "      <th>1</th>\n",
       "      <td>1</td>\n",
       "      <td>1</td>\n",
       "      <td>0</td>\n",
       "      <td>0</td>\n",
       "      <td>0</td>\n",
       "      <td>1</td>\n",
       "      <td>0</td>\n",
       "      <td>0</td>\n",
       "      <td>1</td>\n",
       "    </tr>\n",
       "    <tr>\n",
       "      <th>2</th>\n",
       "      <td>1</td>\n",
       "      <td>0</td>\n",
       "      <td>1</td>\n",
       "      <td>0</td>\n",
       "      <td>0</td>\n",
       "      <td>0</td>\n",
       "      <td>0</td>\n",
       "      <td>0</td>\n",
       "      <td>1</td>\n",
       "    </tr>\n",
       "    <tr>\n",
       "      <th>3</th>\n",
       "      <td>1</td>\n",
       "      <td>1</td>\n",
       "      <td>1</td>\n",
       "      <td>0</td>\n",
       "      <td>0</td>\n",
       "      <td>1</td>\n",
       "      <td>0</td>\n",
       "      <td>0</td>\n",
       "      <td>1</td>\n",
       "    </tr>\n",
       "    <tr>\n",
       "      <th>4</th>\n",
       "      <td>0</td>\n",
       "      <td>1</td>\n",
       "      <td>0</td>\n",
       "      <td>0</td>\n",
       "      <td>0</td>\n",
       "      <td>0</td>\n",
       "      <td>0</td>\n",
       "      <td>0</td>\n",
       "      <td>0</td>\n",
       "    </tr>\n",
       "  </tbody>\n",
       "</table>\n",
       "</div>"
      ],
      "text/plain": [
       "   Pneumonia  Atelectasis  Effusion  Pneumothorax  Infiltration  Cardiomegaly  \\\n",
       "0          1            1         1             0             0             0   \n",
       "1          1            1         0             0             0             1   \n",
       "2          1            0         1             0             0             0   \n",
       "3          1            1         1             0             0             1   \n",
       "4          0            1         0             0             0             0   \n",
       "\n",
       "   Mass  Nodule  algorithm_output  \n",
       "0     0       0                 1  \n",
       "1     0       0                 1  \n",
       "2     0       0                 1  \n",
       "3     0       0                 1  \n",
       "4     0       0                 0  "
      ]
     },
     "execution_count": 2,
     "metadata": {},
     "output_type": "execute_result"
    }
   ],
   "source": [
    "data = pd.read_csv('labels_and_performance.csv')\n",
    "data.head()"
   ]
  },
  {
   "cell_type": "markdown",
   "metadata": {},
   "source": [
    "First, look at the overall performance of the algorithm for the detection of pneumonia using confusion matrix. What is the specificity and sensitivity?"
   ]
  },
  {
   "cell_type": "code",
   "execution_count": 64,
   "metadata": {},
   "outputs": [
    {
     "name": "stdout",
     "output_type": "stream",
     "text": [
      "The confusion matrix : \n",
      " [[56 12]\n",
      " [11 49]]\n",
      "The Specificity of the Algorithm is: 0.8235294117647058\n",
      "The Sensitivity of the Algorithm is: 0.8166666666666667\n",
      "The Accuracy of the Algorithm is: 0.8203125\n"
     ]
    }
   ],
   "source": [
    "print(\"The confusion matrix : \\n\", sm.confusion_matrix(data.Pneumonia, data.algorithm_output))\n",
    "\n",
    "tn, fp, fn, tp = sm.confusion_matrix(data.Pneumonia, data.algorithm_output).ravel()\n",
    "\n",
    "Specificity = tn / (tn + fp)\n",
    "print(\"The Specificity of the Algorithm is:\", Specificity)\n",
    "Sensitivity = tp / (tp + fn)\n",
    "print(\"The Sensitivity of the Algorithm is:\", Sensitivity)\n",
    "Accuracy = (tp + tn) / (tp + fp + fn + tn)\n",
    "print(\"The Accuracy of the Algorithm is:\", Accuracy)"
   ]
  },
  {
   "cell_type": "code",
   "execution_count": 73,
   "metadata": {},
   "outputs": [
    {
     "data": {
      "text/plain": [
       "['Atelectasis',\n",
       " 'Effusion',\n",
       " 'Pneumothorax',\n",
       " 'Infiltration',\n",
       " 'Cardiomegaly',\n",
       " 'Mass',\n",
       " 'Nodule']"
      ]
     },
     "execution_count": 73,
     "metadata": {},
     "output_type": "execute_result"
    }
   ],
   "source": [
    "other_diseases = data.columns[1:-1].tolist()\n",
    "other_diseases"
   ]
  },
  {
   "cell_type": "markdown",
   "metadata": {},
   "source": [
    "Now, look at the algorithm's performance in the **presence of the other diseases**. What is the specificity and sensitivity? "
   ]
  },
  {
   "cell_type": "code",
   "execution_count": 77,
   "metadata": {},
   "outputs": [
    {
     "name": "stdout",
     "output_type": "stream",
     "text": [
      "Atelectasis\n",
      "The Sensitivity of the Algorithm is: 0.782608695652174\n",
      "The Specificity of the Algorithm is: 0.8333333333333334\n",
      "The Accuracy of the Algorithm is: 0.8085106382978723\n",
      "\n",
      "Effusion\n",
      "The Sensitivity of the Algorithm is: 0.6521739130434783\n",
      "The Specificity of the Algorithm is: 0.8571428571428571\n",
      "The Accuracy of the Algorithm is: 0.75\n",
      "\n",
      "Pneumothorax\n",
      "The Sensitivity of the Algorithm is: 0.8571428571428571\n",
      "The Specificity of the Algorithm is: 0.6666666666666666\n",
      "The Accuracy of the Algorithm is: 0.7692307692307693\n",
      "\n",
      "Infiltration\n",
      "The Sensitivity of the Algorithm is: 0.3888888888888889\n",
      "The Specificity of the Algorithm is: 0.0\n",
      "The Accuracy of the Algorithm is: 0.25\n",
      "\n",
      "Cardiomegaly\n",
      "The Sensitivity of the Algorithm is: 0.8888888888888888\n",
      "The Specificity of the Algorithm is: 1.0\n",
      "The Accuracy of the Algorithm is: 0.9375\n",
      "\n",
      "Mass\n",
      "The Sensitivity of the Algorithm is: 0.9285714285714286\n",
      "The Specificity of the Algorithm is: 0.8666666666666667\n",
      "The Accuracy of the Algorithm is: 0.896551724137931\n",
      "\n",
      "Nodule\n",
      "The Sensitivity of the Algorithm is: 1.0\n",
      "The Specificity of the Algorithm is: 0.5384615384615384\n",
      "The Accuracy of the Algorithm is: 0.7272727272727273\n",
      "\n"
     ]
    }
   ],
   "source": [
    "for i in other_diseases:\n",
    "\n",
    "    tn, fp, fn, tp = sm.confusion_matrix(data[data[i]==1].Pneumonia.values,\n",
    "                                                  data[data[i]==1].algorithm_output.values).ravel()\n",
    "    Sensitivity = tp / (tp + fn)\n",
    "    Specificity = tn / (tn + fp)\n",
    "    Accuracy = (tp + tn) / (tp + fp + fn + tn)\n",
    "\n",
    "    print(i)\n",
    "    print(\"The Sensitivity of the Algorithm is:\", Sensitivity)\n",
    "    print(\"The Specificity of the Algorithm is:\", Specificity)\n",
    "    print(\"The Accuracy of the Algorithm is:\", Accuracy)\n",
    "    print()"
   ]
  },
  {
   "cell_type": "markdown",
   "metadata": {},
   "source": [
    "### Statement on algorithmic limitations:\n",
    "\n",
    "<<< your statement here >>> "
   ]
  },
  {
   "cell_type": "markdown",
   "metadata": {},
   "source": [
    "The algorithm performs the poorest when there is presence of Infiltration; We can also note a sharp decrease in Specificity when there is presence of nodule.\n",
    "The algorithm's performance decreases when there is presence of Effusion and Pneumothorax affecting its Sensitivity and Specificity."
   ]
  },
  {
   "cell_type": "code",
   "execution_count": null,
   "metadata": {},
   "outputs": [],
   "source": []
  }
 ],
 "metadata": {
  "kernelspec": {
   "display_name": "Python 3",
   "language": "python",
   "name": "python3"
  },
  "language_info": {
   "codemirror_mode": {
    "name": "ipython",
    "version": 3
   },
   "file_extension": ".py",
   "mimetype": "text/x-python",
   "name": "python",
   "nbconvert_exporter": "python",
   "pygments_lexer": "ipython3",
   "version": "3.7.6"
  }
 },
 "nbformat": 4,
 "nbformat_minor": 2
}
