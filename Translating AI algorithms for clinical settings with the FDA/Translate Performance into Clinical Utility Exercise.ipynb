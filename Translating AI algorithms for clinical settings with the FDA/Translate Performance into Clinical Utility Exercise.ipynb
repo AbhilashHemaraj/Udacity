{
 "cells": [
  {
   "cell_type": "code",
   "execution_count": 72,
   "metadata": {},
   "outputs": [],
   "source": [
    "%matplotlib inline\n",
    "import numpy as np       # linear algebra\n",
    "import pandas as pd      # data processing, CSV file I/O (e.g. pd.read_csv)\n",
    "import matplotlib.pyplot as plt\n",
    "import seaborn as sns\n",
    "from sklearn.preprocessing import binarize\n",
    "\n",
    "from sklearn.metrics import roc_curve, auc, precision_recall_curve, confusion_matrix \n",
    "\n",
    "# Import any other libraries you may need such as\n",
    "# average_precision_score, plot_precision_recall_curve, f1_score, confusion_matrix"
   ]
  },
  {
   "cell_type": "code",
   "execution_count": 2,
   "metadata": {},
   "outputs": [],
   "source": [
    "performances = pd.read_csv('performances.csv')"
   ]
  },
  {
   "cell_type": "code",
   "execution_count": 3,
   "metadata": {},
   "outputs": [
    {
     "data": {
      "text/html": [
       "<div>\n",
       "<style scoped>\n",
       "    .dataframe tbody tr th:only-of-type {\n",
       "        vertical-align: middle;\n",
       "    }\n",
       "\n",
       "    .dataframe tbody tr th {\n",
       "        vertical-align: top;\n",
       "    }\n",
       "\n",
       "    .dataframe thead th {\n",
       "        text-align: right;\n",
       "    }\n",
       "</style>\n",
       "<table border=\"1\" class=\"dataframe\">\n",
       "  <thead>\n",
       "    <tr style=\"text-align: right;\">\n",
       "      <th></th>\n",
       "      <th>ground_truth</th>\n",
       "      <th>probability</th>\n",
       "    </tr>\n",
       "  </thead>\n",
       "  <tbody>\n",
       "    <tr>\n",
       "      <th>0</th>\n",
       "      <td>1</td>\n",
       "      <td>0.99</td>\n",
       "    </tr>\n",
       "    <tr>\n",
       "      <th>1</th>\n",
       "      <td>1</td>\n",
       "      <td>0.98</td>\n",
       "    </tr>\n",
       "    <tr>\n",
       "      <th>2</th>\n",
       "      <td>1</td>\n",
       "      <td>0.97</td>\n",
       "    </tr>\n",
       "    <tr>\n",
       "      <th>3</th>\n",
       "      <td>1</td>\n",
       "      <td>0.96</td>\n",
       "    </tr>\n",
       "    <tr>\n",
       "      <th>4</th>\n",
       "      <td>1</td>\n",
       "      <td>0.95</td>\n",
       "    </tr>\n",
       "  </tbody>\n",
       "</table>\n",
       "</div>"
      ],
      "text/plain": [
       "   ground_truth  probability\n",
       "0             1         0.99\n",
       "1             1         0.98\n",
       "2             1         0.97\n",
       "3             1         0.96\n",
       "4             1         0.95"
      ]
     },
     "execution_count": 3,
     "metadata": {},
     "output_type": "execute_result"
    }
   ],
   "source": [
    "performances.head()"
   ]
  },
  {
   "cell_type": "code",
   "execution_count": null,
   "metadata": {},
   "outputs": [],
   "source": []
  },
  {
   "cell_type": "markdown",
   "metadata": {},
   "source": [
    "### Exercise"
   ]
  },
  {
   "cell_type": "code",
   "execution_count": 102,
   "metadata": {},
   "outputs": [],
   "source": [
    "# function to plot the roc_curve. You can utilize roc_curve and auc imported above\n",
    "def plot_roc_curve(ground_truth, probability):\n",
    "    fpr, tpr, thresholds = roc_curve(ground_truth, probability)\n",
    "    plt.figure(figsize = (10, 7))\n",
    "    plt.plot(fpr, tpr)\n",
    "    plt.title('2-class ROC curve')\n",
    "    \n",
    "# function to plot the precision_recall_curve. You can utilizat precision_recall_curve imported above\n",
    "def plot_precision_recall_curve(ground_truth, probability):\n",
    "    precision, recall, thresholds = precision_recall_curve(ground_truth, probability)\n",
    "    plt.figure(figsize = (10, 7))\n",
    "    plt.step(recall, precision)\n",
    "    plt.title('2-class Precision-Recall curve: '\n",
    "                   'AP={0:0.2f}'.format(np.average(precision)))\n",
    "\n",
    "# function to calculate the F1 score\n",
    "def calc_f1(prec,recall):\n",
    "    return 2*(prec*recall)/(prec+recall)\n",
    "\n"
   ]
  },
  {
   "cell_type": "code",
   "execution_count": 103,
   "metadata": {},
   "outputs": [
    {
     "data": {
      "image/png": "[encoded data removed]",
      "text/plain": [
       "<Figure size 720x504 with 1 Axes>"
      ]
     },
     "metadata": {
      "needs_background": "light"
     },
     "output_type": "display_data"
    }
   ],
   "source": [
    "plot_roc_curve(performances['ground_truth'],performances['probability'])"
   ]
  },
  {
   "cell_type": "code",
   "execution_count": 104,
   "metadata": {},
   "outputs": [
    {
     "data": {
      "image/png": "[encoded data removed]",
      "text/plain": [
       "<Figure size 720x504 with 1 Axes>"
      ]
     },
     "metadata": {
      "needs_background": "light"
     },
     "output_type": "display_data"
    }
   ],
   "source": [
    "plot_precision_recall_curve(performances['ground_truth'],performances['probability'])"
   ]
  },
  {
   "cell_type": "markdown",
   "metadata": {},
   "source": [
    "### Calculate F1 Score\n",
    "Calculate F1 score for two different scenarios here, \n",
    "1. Choose a threshold that favors precision, \n",
    "2. Choose a threshold that favors recall\n",
    "\n",
    "Print the precision, recall, threshold, and F1 score for each scenario. "
   ]
  },
  {
   "cell_type": "code",
   "execution_count": 49,
   "metadata": {},
   "outputs": [
    {
     "data": {
      "text/plain": [
       "array([0.06, 0.07, 0.08, 0.09, 0.1 , 0.11, 0.12, 0.13, 0.14, 0.15, 0.16,\n",
       "       0.17, 0.18, 0.19, 0.2 , 0.21, 0.22, 0.23, 0.25, 0.26, 0.27, 0.28,\n",
       "       0.29, 0.3 , 0.31, 0.32, 0.33, 0.34, 0.35, 0.36, 0.37, 0.38, 0.39,\n",
       "       0.4 , 0.41, 0.43, 0.44, 0.45, 0.46, 0.47, 0.48, 0.49, 0.5 , 0.51,\n",
       "       0.52, 0.53, 0.54, 0.55, 0.56, 0.57, 0.58, 0.59, 0.6 , 0.61, 0.62,\n",
       "       0.63, 0.64, 0.65, 0.66, 0.67, 0.68, 0.69, 0.7 , 0.71, 0.72, 0.73,\n",
       "       0.74, 0.75, 0.76, 0.77, 0.78, 0.79, 0.8 , 0.81, 0.82, 0.83, 0.88,\n",
       "       0.89, 0.9 , 0.91, 0.92, 0.93, 0.94, 0.95, 0.96, 0.97, 0.98, 0.99])"
      ]
     },
     "execution_count": 49,
     "metadata": {},
     "output_type": "execute_result"
    }
   ],
   "source": [
    "precision, recall, thresholds = precision_recall_curve(performances['ground_truth'],performances['probability'])\n",
    "thresholds"
   ]
  },
  {
   "cell_type": "code",
   "execution_count": 66,
   "metadata": {},
   "outputs": [
    {
     "name": "stdout",
     "output_type": "stream",
     "text": [
      "The precision for cutoff: 0.79  is:  0.8043478260869565\n",
      "The recall for cutoff: 0.79  is:  0.37373737373737376\n",
      "The F1 score is:  0.5103448275862069\n"
     ]
    }
   ],
   "source": [
    "# For a case of High precision and low recall\n",
    "cut_off = 0.79\n",
    "i = (np.abs(thresholds - cut_off)).argmin()\n",
    "print(\"The precision for cutoff:\", cut_off, \" is: \", precision[i])\n",
    "print(\"The recall for cutoff:\", cut_off, \" is: \", recall[i])\n",
    "print(\"The F1 score is: \", calc_f1(precision[i], recall[i]))"
   ]
  },
  {
   "cell_type": "code",
   "execution_count": 67,
   "metadata": {},
   "outputs": [
    {
     "name": "stdout",
     "output_type": "stream",
     "text": [
      "The precision for cutoff: 0.35  is:  0.365296803652968\n",
      "The recall for cutoff: 0.35  is:  0.8080808080808081\n",
      "The F1 score is:  0.5031446540880504\n"
     ]
    }
   ],
   "source": [
    "# For a case of High recall and low precision\n",
    "cut_off = 0.35\n",
    "i = (np.abs(thresholds - cut_off)).argmin()\n",
    "print(\"The precision for cutoff:\", cut_off, \" is: \", precision[i])\n",
    "print(\"The recall for cutoff:\", cut_off, \" is: \", recall[i])\n",
    "print(\"The F1 score is: \", calc_f1(precision[i], recall[i]))"
   ]
  },
  {
   "cell_type": "markdown",
   "metadata": {},
   "source": [
    "### Examine the _accuracy_ under the two scenarios\n",
    "Now look at what the _accuracy_ of our model would be using those two threshold values. **Hint, you can add a new column with value 0 or 1 as predictions based on the threshold you choose, then you can calculate accuracy using ground truth and the prediction you just made.**\n",
    "\n",
    "Print the _accuracy_ in both the cases, and think about why accuracy really isn't a great performance statistic when evaluating and interpreting the utility of our models. "
   ]
  },
  {
   "cell_type": "code",
   "execution_count": 107,
   "metadata": {},
   "outputs": [
    {
     "name": "stdout",
     "output_type": "stream",
     "text": [
      "The Accuracy of the Algorithm is: 0.8954344624447718\n"
     ]
    },
    {
     "data": {
      "image/png": "[encoded data removed]",
      "text/plain": [
       "<Figure size 720x504 with 2 Axes>"
      ]
     },
     "metadata": {
      "needs_background": "light"
     },
     "output_type": "display_data"
    }
   ],
   "source": [
    "performances[\"co_0.79\"] = np.where(performances.probability >= 0.79, 1, 0)\n",
    "tn, fp, fn, tp = confusion_matrix(performances.ground_truth, performances[\"co_0.79\"]).ravel()\n",
    "cf_matrix = confusion_matrix(performances.ground_truth, performances[\"co_0.79\"])\n",
    "plt.figure(figsize = (10, 7))\n",
    "plt.title(\"Threshold set at 0.79\")\n",
    "sns.heatmap(cf_matrix, annot=True, fmt = 'd')\n",
    "\n",
    "Accuracy = (tp + tn) / (tp + fp + fn + tn)\n",
    "print(\"The Accuracy of the Algorithm is:\", Accuracy)"
   ]
  },
  {
   "cell_type": "code",
   "execution_count": 106,
   "metadata": {},
   "outputs": [
    {
     "name": "stdout",
     "output_type": "stream",
     "text": [
      "The Accuracy of the Algorithm is: 0.7673048600883653\n"
     ]
    },
    {
     "data": {
      "image/png": "[encoded data removed]",
      "text/plain": [
       "<Figure size 720x504 with 2 Axes>"
      ]
     },
     "metadata": {
      "needs_background": "light"
     },
     "output_type": "display_data"
    }
   ],
   "source": [
    "performances[\"co_0.35\"] = np.where(performances.probability >= 0.35, 1, 0)\n",
    "tn, fp, fn, tp = confusion_matrix(performances.ground_truth, performances[\"co_0.35\"]).ravel()\n",
    "cf_matrix = confusion_matrix(performances.ground_truth, performances[\"co_0.35\"])\n",
    "plt.figure(figsize = (10, 7))\n",
    "plt.title(\"Threshold set at 0.35\")\n",
    "sns.heatmap(cf_matrix, annot=True, fmt = 'd')\n",
    "\n",
    "Accuracy = (tp + tn) / (tp + fp + fn + tn)\n",
    "print(\"The Accuracy of the Algorithm is:\", Accuracy)"
   ]
  },
  {
   "cell_type": "code",
   "execution_count": null,
   "metadata": {},
   "outputs": [],
   "source": []
  }
 ],
 "metadata": {
  "kernelspec": {
   "display_name": "Python 3",
   "language": "python",
   "name": "python3"
  },
  "language_info": {
   "codemirror_mode": {
    "name": "ipython",
    "version": 3
   },
   "file_extension": ".py",
   "mimetype": "text/x-python",
   "name": "python",
   "nbconvert_exporter": "python",
   "pygments_lexer": "ipython3",
   "version": "3.7.6"
  }
 },
 "nbformat": 4,
 "nbformat_minor": 2
}
