{
 "cells": [
  {
   "cell_type": "code",
   "execution_count": 2,
   "metadata": {},
   "outputs": [],
   "source": [
    "import pandas as pd\n",
    "import numpy as np\n",
    "import pydicom\n",
    "import glob"
   ]
  },
  {
   "cell_type": "code",
   "execution_count": 3,
   "metadata": {},
   "outputs": [],
   "source": [
    "## First, read all of my DICOM files into a list\n",
    "mydicoms = glob.glob(\"*.dcm\")"
   ]
  },
  {
   "cell_type": "markdown",
   "metadata": {},
   "source": [
    "### Let's look at the contents of the first DICOM:"
   ]
  },
  {
   "cell_type": "code",
   "execution_count": 4,
   "metadata": {},
   "outputs": [
    {
     "data": {
      "text/plain": [
       "(0008, 0016) SOP Class UID                       UI: Secondary Capture Image Storage\n",
       "(0008, 0018) SOP Instance UID                    UI: 1.3.6.1.4.1.11129.5.5.162426174634548301003630270411628292460952\n",
       "(0008, 0060) Modality                            CS: 'DX'\n",
       "(0008, 1030) Study Description                   LO: 'Effusion|Nodule|Pleural_Thickening|Mass'\n",
       "(0010, 0020) Patient ID                          LO: '29579'\n",
       "(0010, 0040) Patient's Sex                       CS: 'F'\n",
       "(0010, 1010) Patient's Age                       AS: '24'\n",
       "(0020, 000d) Study Instance UID                  UI: 1.3.6.1.4.1.11129.5.5.113025392650823751977671880960497589856674\n",
       "(0020, 000e) Series Instance UID                 UI: 1.3.6.1.4.1.11129.5.5.168055162156043936178718006100964727334210\n",
       "(0028, 0002) Samples per Pixel                   US: 1\n",
       "(0028, 0004) Photometric Interpretation          CS: 'MONOCHROME2'\n",
       "(0028, 0010) Rows                                US: 1024\n",
       "(0028, 0011) Columns                             US: 1024\n",
       "(0028, 0100) Bits Allocated                      US: 8\n",
       "(0028, 0101) Bits Stored                         US: 8\n",
       "(0028, 0102) High Bit                            US: 7\n",
       "(0028, 0103) Pixel Representation                US: 0\n",
       "(7fe0, 0010) Pixel Data                          OW: Array of 1048576 elements"
      ]
     },
     "execution_count": 4,
     "metadata": {},
     "output_type": "execute_result"
    }
   ],
   "source": [
    "dcm1 = pydicom.dcmread(mydicoms[0])\n",
    "dcm1"
   ]
  },
  {
   "cell_type": "code",
   "execution_count": 5,
   "metadata": {},
   "outputs": [
    {
     "name": "stdout",
     "output_type": "stream",
     "text": [
      "24 F MONOCHROME2\n"
     ]
    }
   ],
   "source": [
    "## Do some exploratory work before about how to extract these attributes using pydicom... \n",
    "\n",
    "print(dcm1.PatientAge, dcm1.PatientSex, dcm1.PhotometricInterpretation)\n",
    "\n"
   ]
  },
  {
   "cell_type": "markdown",
   "metadata": {},
   "source": [
    "## Now, let's create the dataframe that we want, and populate it in a loop with all of our DICOMS:\n",
    "\n",
    "To complete this exercise, create a single dataframe that has the following columns:\n",
    "- Patient ID\n",
    "- Patient Age (as an integer)\n",
    "- Patient Sex (M/F)\n",
    "- Imaging Modality\n",
    "- Type of finding in the image\n",
    "- Number of rows in the image\n",
    "- Number of columns in the image\n",
    "\n",
    "Save this dataframe as a .CSV file."
   ]
  },
  {
   "cell_type": "code",
   "execution_count": 102,
   "metadata": {},
   "outputs": [],
   "source": [
    "df = {\"Patient ID\":np.arange(0, 7).tolist(),\n",
    "     \"Patient Age\":np.arange(0, 7).tolist(), \"Patient Sex\":np.arange(0, 7).tolist(), \n",
    "                            \"Imaging Modality\":np.arange(0, 7).tolist(), \"Type of finding\":np.arange(0, 7).tolist(),\n",
    "                            \"N-rows\":np.arange(0, 7).tolist(), \"N-columns\":np.arange(0, 7).tolist()}"
   ]
  },
  {
   "cell_type": "code",
   "execution_count": 103,
   "metadata": {},
   "outputs": [
    {
     "data": {
      "text/plain": [
       "{'Patient ID': [0, 1, 2, 3, 4, 5, 6],\n",
       " 'Patient Age': [0, 1, 2, 3, 4, 5, 6],\n",
       " 'Patient Sex': [0, 1, 2, 3, 4, 5, 6],\n",
       " 'Imaging Modality': [0, 1, 2, 3, 4, 5, 6],\n",
       " 'Type of finding': [0, 1, 2, 3, 4, 5, 6],\n",
       " 'N-rows': [0, 1, 2, 3, 4, 5, 6],\n",
       " 'N-columns': [0, 1, 2, 3, 4, 5, 6]}"
      ]
     },
     "execution_count": 103,
     "metadata": {},
     "output_type": "execute_result"
    }
   ],
   "source": [
    "df"
   ]
  },
  {
   "cell_type": "code",
   "execution_count": 104,
   "metadata": {},
   "outputs": [],
   "source": [
    "df = pd.DataFrame(df, columns = [\"Patient ID\", \"Patient Age\", \"Patient Sex\", \n",
    "                            \"Imaging Modality\", \"Type of finding\",\n",
    "                            \"N-rows\", \"N-columns\"])"
   ]
  },
  {
   "cell_type": "code",
   "execution_count": 105,
   "metadata": {},
   "outputs": [
    {
     "data": {
      "text/html": [
       "<div>\n",
       "<style scoped>\n",
       "    .dataframe tbody tr th:only-of-type {\n",
       "        vertical-align: middle;\n",
       "    }\n",
       "\n",
       "    .dataframe tbody tr th {\n",
       "        vertical-align: top;\n",
       "    }\n",
       "\n",
       "    .dataframe thead th {\n",
       "        text-align: right;\n",
       "    }\n",
       "</style>\n",
       "<table border=\"1\" class=\"dataframe\">\n",
       "  <thead>\n",
       "    <tr style=\"text-align: right;\">\n",
       "      <th></th>\n",
       "      <th>Patient ID</th>\n",
       "      <th>Patient Age</th>\n",
       "      <th>Patient Sex</th>\n",
       "      <th>Imaging Modality</th>\n",
       "      <th>Type of finding</th>\n",
       "      <th>N-rows</th>\n",
       "      <th>N-columns</th>\n",
       "    </tr>\n",
       "  </thead>\n",
       "  <tbody>\n",
       "    <tr>\n",
       "      <th>0</th>\n",
       "      <td>0</td>\n",
       "      <td>0</td>\n",
       "      <td>0</td>\n",
       "      <td>0</td>\n",
       "      <td>0</td>\n",
       "      <td>0</td>\n",
       "      <td>0</td>\n",
       "    </tr>\n",
       "    <tr>\n",
       "      <th>1</th>\n",
       "      <td>1</td>\n",
       "      <td>1</td>\n",
       "      <td>1</td>\n",
       "      <td>1</td>\n",
       "      <td>1</td>\n",
       "      <td>1</td>\n",
       "      <td>1</td>\n",
       "    </tr>\n",
       "    <tr>\n",
       "      <th>2</th>\n",
       "      <td>2</td>\n",
       "      <td>2</td>\n",
       "      <td>2</td>\n",
       "      <td>2</td>\n",
       "      <td>2</td>\n",
       "      <td>2</td>\n",
       "      <td>2</td>\n",
       "    </tr>\n",
       "    <tr>\n",
       "      <th>3</th>\n",
       "      <td>3</td>\n",
       "      <td>3</td>\n",
       "      <td>3</td>\n",
       "      <td>3</td>\n",
       "      <td>3</td>\n",
       "      <td>3</td>\n",
       "      <td>3</td>\n",
       "    </tr>\n",
       "    <tr>\n",
       "      <th>4</th>\n",
       "      <td>4</td>\n",
       "      <td>4</td>\n",
       "      <td>4</td>\n",
       "      <td>4</td>\n",
       "      <td>4</td>\n",
       "      <td>4</td>\n",
       "      <td>4</td>\n",
       "    </tr>\n",
       "    <tr>\n",
       "      <th>5</th>\n",
       "      <td>5</td>\n",
       "      <td>5</td>\n",
       "      <td>5</td>\n",
       "      <td>5</td>\n",
       "      <td>5</td>\n",
       "      <td>5</td>\n",
       "      <td>5</td>\n",
       "    </tr>\n",
       "    <tr>\n",
       "      <th>6</th>\n",
       "      <td>6</td>\n",
       "      <td>6</td>\n",
       "      <td>6</td>\n",
       "      <td>6</td>\n",
       "      <td>6</td>\n",
       "      <td>6</td>\n",
       "      <td>6</td>\n",
       "    </tr>\n",
       "  </tbody>\n",
       "</table>\n",
       "</div>"
      ],
      "text/plain": [
       "   Patient ID  Patient Age  Patient Sex  Imaging Modality  Type of finding  \\\n",
       "0           0            0            0                 0                0   \n",
       "1           1            1            1                 1                1   \n",
       "2           2            2            2                 2                2   \n",
       "3           3            3            3                 3                3   \n",
       "4           4            4            4                 4                4   \n",
       "5           5            5            5                 5                5   \n",
       "6           6            6            6                 6                6   \n",
       "\n",
       "   N-rows  N-columns  \n",
       "0       0          0  \n",
       "1       1          1  \n",
       "2       2          2  \n",
       "3       3          3  \n",
       "4       4          4  \n",
       "5       5          5  \n",
       "6       6          6  "
      ]
     },
     "execution_count": 105,
     "metadata": {},
     "output_type": "execute_result"
    }
   ],
   "source": [
    "df"
   ]
  },
  {
   "cell_type": "code",
   "execution_count": 106,
   "metadata": {},
   "outputs": [],
   "source": [
    "for i in range(7):\n",
    "    dcm = pydicom.dcmread(mydicoms[i])\n",
    "    df.iloc[i, 0] = [dcm.PatientID]\n",
    "    df.iloc[i, 1] = [dcm.PatientAge]\n",
    "    df.iloc[i, 2] = [dcm.PatientSex]\n",
    "    df.iloc[i, 3] = [dcm.Modality]\n",
    "    df.iloc[i, 4] = [dcm.StudyDescription]\n",
    "    df.iloc[i, 5] = [dcm.Rows]\n",
    "    df.iloc[i, 6] = [dcm.Columns]"
   ]
  },
  {
   "cell_type": "code",
   "execution_count": 107,
   "metadata": {},
   "outputs": [
    {
     "data": {
      "text/html": [
       "<div>\n",
       "<style scoped>\n",
       "    .dataframe tbody tr th:only-of-type {\n",
       "        vertical-align: middle;\n",
       "    }\n",
       "\n",
       "    .dataframe tbody tr th {\n",
       "        vertical-align: top;\n",
       "    }\n",
       "\n",
       "    .dataframe thead th {\n",
       "        text-align: right;\n",
       "    }\n",
       "</style>\n",
       "<table border=\"1\" class=\"dataframe\">\n",
       "  <thead>\n",
       "    <tr style=\"text-align: right;\">\n",
       "      <th></th>\n",
       "      <th>Patient ID</th>\n",
       "      <th>Patient Age</th>\n",
       "      <th>Patient Sex</th>\n",
       "      <th>Imaging Modality</th>\n",
       "      <th>Type of finding</th>\n",
       "      <th>N-rows</th>\n",
       "      <th>N-columns</th>\n",
       "    </tr>\n",
       "  </thead>\n",
       "  <tbody>\n",
       "    <tr>\n",
       "      <th>0</th>\n",
       "      <td>29579</td>\n",
       "      <td>24</td>\n",
       "      <td>F</td>\n",
       "      <td>DX</td>\n",
       "      <td>Effusion|Nodule|Pleural_Thickening|Mass</td>\n",
       "      <td>1024</td>\n",
       "      <td>1024</td>\n",
       "    </tr>\n",
       "    <tr>\n",
       "      <th>1</th>\n",
       "      <td>1688</td>\n",
       "      <td>59</td>\n",
       "      <td>F</td>\n",
       "      <td>DX</td>\n",
       "      <td>Infiltration|Nodule</td>\n",
       "      <td>1024</td>\n",
       "      <td>1024</td>\n",
       "    </tr>\n",
       "    <tr>\n",
       "      <th>2</th>\n",
       "      <td>13659</td>\n",
       "      <td>62</td>\n",
       "      <td>F</td>\n",
       "      <td>DX</td>\n",
       "      <td>Consolidation|Mass|Pneumonia|Pneumothorax</td>\n",
       "      <td>1024</td>\n",
       "      <td>1024</td>\n",
       "    </tr>\n",
       "    <tr>\n",
       "      <th>3</th>\n",
       "      <td>13118</td>\n",
       "      <td>69</td>\n",
       "      <td>M</td>\n",
       "      <td>DX</td>\n",
       "      <td>Atelectasis</td>\n",
       "      <td>1024</td>\n",
       "      <td>1024</td>\n",
       "    </tr>\n",
       "    <tr>\n",
       "      <th>4</th>\n",
       "      <td>10172</td>\n",
       "      <td>59</td>\n",
       "      <td>F</td>\n",
       "      <td>DX</td>\n",
       "      <td>Atelectasis|Effusion</td>\n",
       "      <td>1024</td>\n",
       "      <td>1024</td>\n",
       "    </tr>\n",
       "    <tr>\n",
       "      <th>5</th>\n",
       "      <td>5066</td>\n",
       "      <td>52</td>\n",
       "      <td>M</td>\n",
       "      <td>DX</td>\n",
       "      <td>Cardiomegaly|Effusion|Infiltration</td>\n",
       "      <td>1024</td>\n",
       "      <td>1024</td>\n",
       "    </tr>\n",
       "    <tr>\n",
       "      <th>6</th>\n",
       "      <td>23075</td>\n",
       "      <td>31</td>\n",
       "      <td>M</td>\n",
       "      <td>DX</td>\n",
       "      <td>Mass</td>\n",
       "      <td>1024</td>\n",
       "      <td>1024</td>\n",
       "    </tr>\n",
       "  </tbody>\n",
       "</table>\n",
       "</div>"
      ],
      "text/plain": [
       "  Patient ID Patient Age Patient Sex Imaging Modality  \\\n",
       "0      29579          24           F               DX   \n",
       "1       1688          59           F               DX   \n",
       "2      13659          62           F               DX   \n",
       "3      13118          69           M               DX   \n",
       "4      10172          59           F               DX   \n",
       "5       5066          52           M               DX   \n",
       "6      23075          31           M               DX   \n",
       "\n",
       "                             Type of finding  N-rows  N-columns  \n",
       "0    Effusion|Nodule|Pleural_Thickening|Mass    1024       1024  \n",
       "1                        Infiltration|Nodule    1024       1024  \n",
       "2  Consolidation|Mass|Pneumonia|Pneumothorax    1024       1024  \n",
       "3                                Atelectasis    1024       1024  \n",
       "4                       Atelectasis|Effusion    1024       1024  \n",
       "5         Cardiomegaly|Effusion|Infiltration    1024       1024  \n",
       "6                                       Mass    1024       1024  "
      ]
     },
     "execution_count": 107,
     "metadata": {},
     "output_type": "execute_result"
    }
   ],
   "source": [
    "df"
   ]
  },
  {
   "cell_type": "code",
   "execution_count": null,
   "metadata": {},
   "outputs": [],
   "source": []
  }
 ],
 "metadata": {
  "kernelspec": {
   "display_name": "Python 3",
   "language": "python",
   "name": "python3"
  },
  "language_info": {
   "codemirror_mode": {
    "name": "ipython",
    "version": 3
   },
   "file_extension": ".py",
   "mimetype": "text/x-python",
   "name": "python",
   "nbconvert_exporter": "python",
   "pygments_lexer": "ipython3",
   "version": "3.7.6"
  }
 },
 "nbformat": 4,
 "nbformat_minor": 2
}
